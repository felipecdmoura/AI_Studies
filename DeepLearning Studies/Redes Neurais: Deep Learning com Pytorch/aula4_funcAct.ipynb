{
 "cells": [
  {
   "cell_type": "code",
   "execution_count": 36,
   "metadata": {},
   "outputs": [
    {
     "name": "stdout",
     "output_type": "stream",
     "text": [
      "Output: 18.08 / Limiar: 1.00 / Ativacao:  1.00 \n"
     ]
    }
   ],
   "source": [
    "import torch \n",
    "from torch import nn\n",
    "import numpy as np\n",
    "from sklearn.datasets import make_classification\n",
    "\n",
    "\n",
    "np.random.seed(46)\n",
    "\n",
    "# Gera uma classificacao baseada na seed declarada anteriormente, com X contendo os pontos, e Y os rotulos referentes a cada ponto.\n",
    "X, Y = make_classification(n_features=2, n_redundant=0, n_informative=1,\n",
    "                             n_clusters_per_class=1)\n",
    "\n",
    "# Pesos e bias usados\n",
    "w1 = 5\n",
    "w2 = 1\n",
    "b = 1.2\n",
    "\n",
    "# Criacao de rede neural do tipo linear com in_features=2 e out_features=1, pois possui uma entrada de duas dimensoes(w1 e w2) e apenas uma saida.\n",
    "perc = nn.Linear(2,1)\n",
    "\n",
    "# Definicao dos pesos e do bias de forma manual (otimizacao manual)\n",
    "perc.weight = nn.Parameter(torch.Tensor([[w1, w2]]))\n",
    "perc.bias = nn.Parameter(torch.Tensor([b]))\n",
    "\n",
    "# Transformacao do dado em tensor. PONTOS TESTADOS: 17, 21, 43, 66\n",
    "inp = torch.Tensor(X[66])\n",
    "\n",
    "out = perc(inp)\n",
    "act = nn.Sigmoid()\n",
    "act = act(out)\n",
    "\n",
    "if(out.data >= 0): \n",
    "    lim = 1 \n",
    "else: \n",
    "    lim = 0\n",
    "\n",
    "# Imprime o output(resultado da eq da reta aplicada no ponto em questao), o limiar (se o output for acima de 0 o resultado sera 1, se nao, 0) e a ativacao (resultado da \n",
    "# funcao de ativacao sigmoid, no caso, que indica a confiabilidade do resultado, ou seja, quanto mais proximo de 0.5, mais incerto)\n",
    "print(\"Output: {:5.2f} \".format(out.data.numpy()[0]) + \"/ Limiar: {:4.2f} \".format(lim) + \"/ Ativacao: {:5.2f} \".format(act.data.numpy()[0]));\n"
   ]
  },
  {
   "cell_type": "code",
   "execution_count": null,
   "metadata": {},
   "outputs": [],
   "source": []
  }
 ],
 "metadata": {
  "kernelspec": {
   "display_name": "Python 3.10.4 64-bit",
   "language": "python",
   "name": "python3"
  },
  "language_info": {
   "codemirror_mode": {
    "name": "ipython",
    "version": 3
   },
   "file_extension": ".py",
   "mimetype": "text/x-python",
   "name": "python",
   "nbconvert_exporter": "python",
   "pygments_lexer": "ipython3",
   "version": "3.10.4"
  },
  "orig_nbformat": 4,
  "vscode": {
   "interpreter": {
    "hash": "916dbcbb3f70747c44a77c7bcd40155683ae19c65e1c03b4aa3499c5328201f1"
   }
  }
 },
 "nbformat": 4,
 "nbformat_minor": 2
}
