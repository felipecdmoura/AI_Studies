{
 "cells": [
  {
   "cell_type": "code",
   "execution_count": 3,
   "metadata": {},
   "outputs": [
    {
     "name": "stderr",
     "output_type": "stream",
     "text": [
      "/home/felipemoura/.local/lib/python3.10/site-packages/tqdm/auto.py:22: TqdmWarning: IProgress not found. Please update jupyter and ipywidgets. See https://ipywidgets.readthedocs.io/en/stable/user_install.html\n",
      "  from .autonotebook import tqdm as notebook_tqdm\n"
     ]
    }
   ],
   "source": [
    "import torch"
   ]
  },
  {
   "cell_type": "code",
   "execution_count": 41,
   "metadata": {},
   "outputs": [
    {
     "name": "stdout",
     "output_type": "stream",
     "text": [
      "torch.Size([1, 147])\n",
      "\n",
      "tensor([[-1.7289,  0.0366, -1.2167,  ..., -1.5996,  0.7800,  0.5776],\n",
      "        [-0.5174,  1.2481, -0.0053,  ..., -0.3882,  1.9915,  1.7890],\n",
      "        [-0.5605,  1.2049, -0.0484,  ..., -0.4313,  1.9484,  1.7459],\n",
      "        ...,\n",
      "        [-0.1621,  1.6034,  0.3500,  ..., -0.0328,  2.3468,  2.1444],\n",
      "        [-0.2294,  1.5361,  0.2827,  ..., -0.1001,  2.2795,  2.0771],\n",
      "        [-1.8179, -0.0524, -1.3058,  ..., -1.6886,  0.6910,  0.4886]])\n"
     ]
    }
   ],
   "source": [
    "tns1 = torch.randn(7,7,3)\n",
    "tns2 = torch.randn(147,1)\n",
    "\n",
    "tns1 = tns1.view(1, -1)\n",
    "print(tns1.size())\n",
    "print(\"\")\n",
    "print(tns1 + tns2)\n"
   ]
  },
  {
   "cell_type": "code",
   "execution_count": null,
   "metadata": {},
   "outputs": [],
   "source": []
  }
 ],
 "metadata": {
  "kernelspec": {
   "display_name": "Python 3.10.4 64-bit",
   "language": "python",
   "name": "python3"
  },
  "language_info": {
   "codemirror_mode": {
    "name": "ipython",
    "version": 3
   },
   "file_extension": ".py",
   "mimetype": "text/x-python",
   "name": "python",
   "nbconvert_exporter": "python",
   "pygments_lexer": "ipython3",
   "version": "3.10.4"
  },
  "orig_nbformat": 4,
  "vscode": {
   "interpreter": {
    "hash": "916dbcbb3f70747c44a77c7bcd40155683ae19c65e1c03b4aa3499c5328201f1"
   }
  }
 },
 "nbformat": 4,
 "nbformat_minor": 2
}
