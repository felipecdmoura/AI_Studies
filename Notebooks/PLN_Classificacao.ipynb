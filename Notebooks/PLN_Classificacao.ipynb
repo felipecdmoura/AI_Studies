{
 "cells": [
  {
   "cell_type": "markdown",
   "id": "8feff05c",
   "metadata": {},
   "source": [
    "# Classificação\n"
   ]
  },
  {
   "cell_type": "markdown",
   "id": "bdc09b35",
   "metadata": {},
   "source": [
    "* Classifica textos baseados em rótulos e dados inseridos previamente no treino, como entrada."
   ]
  },
  {
   "cell_type": "markdown",
   "id": "a0a2beb0",
   "metadata": {},
   "source": [
    "* Os rótulos são essenciais para a classificação."
   ]
  },
  {
   "cell_type": "markdown",
   "id": "2e6acf6f",
   "metadata": {},
   "source": [
    "* O modelo pode classificar por meio de uma árvore de decisão, ou por meio de uma visão vetorial, utilizando um plano cartesiano para separar os tipos por meio espacial, torulando os dados que ficam proximos entre si.\n"
   ]
  },
  {
   "cell_type": "markdown",
   "id": "a1f1bba2",
   "metadata": {},
   "source": [
    "* O deep learning mistura as duas visões, porem sem a separação espacial por meio funções lineares."
   ]
  },
  {
   "cell_type": "markdown",
   "id": "27535781",
   "metadata": {},
   "source": [
    "### Explicabilidade\n"
   ]
  },
  {
   "cell_type": "markdown",
   "id": "493487c5",
   "metadata": {},
   "source": [
    "* Área de estudo que visa entender como o modelo funciona e como este toma decisão."
   ]
  },
  {
   "cell_type": "markdown",
   "id": "5f1e6ad1",
   "metadata": {},
   "source": [
    "### Exp. Classificação"
   ]
  },
  {
   "cell_type": "code",
   "execution_count": 66,
   "id": "56e066ce",
   "metadata": {},
   "outputs": [],
   "source": [
    "from sklearn.datasets import fetch_20newsgroups"
   ]
  },
  {
   "cell_type": "code",
   "execution_count": 67,
   "id": "0c0f9ae0",
   "metadata": {},
   "outputs": [],
   "source": [
    "ng_train = fetch_20newsgroups(subset='train', remove=('headers', 'footers', 'quotes'))"
   ]
  },
  {
   "cell_type": "code",
   "execution_count": 68,
   "id": "531e2e98",
   "metadata": {},
   "outputs": [
    {
     "data": {
      "text/plain": [
       "11314"
      ]
     },
     "execution_count": 68,
     "metadata": {},
     "output_type": "execute_result"
    }
   ],
   "source": [
    "len(ng_train.data)"
   ]
  },
  {
   "cell_type": "code",
   "execution_count": 69,
   "id": "f1a52a6e",
   "metadata": {},
   "outputs": [
    {
     "data": {
      "text/plain": [
       "['alt.atheism',\n",
       " 'comp.graphics',\n",
       " 'comp.os.ms-windows.misc',\n",
       " 'comp.sys.ibm.pc.hardware',\n",
       " 'comp.sys.mac.hardware',\n",
       " 'comp.windows.x',\n",
       " 'misc.forsale',\n",
       " 'rec.autos',\n",
       " 'rec.motorcycles',\n",
       " 'rec.sport.baseball',\n",
       " 'rec.sport.hockey',\n",
       " 'sci.crypt',\n",
       " 'sci.electronics',\n",
       " 'sci.med',\n",
       " 'sci.space',\n",
       " 'soc.religion.christian',\n",
       " 'talk.politics.guns',\n",
       " 'talk.politics.mideast',\n",
       " 'talk.politics.misc',\n",
       " 'talk.religion.misc']"
      ]
     },
     "execution_count": 69,
     "metadata": {},
     "output_type": "execute_result"
    }
   ],
   "source": [
    "ng_train.target_names"
   ]
  },
  {
   "cell_type": "code",
   "execution_count": 70,
   "id": "7e5322c0",
   "metadata": {},
   "outputs": [],
   "source": [
    "X = ng_train.data\n",
    "Y = ng_train.target"
   ]
  },
  {
   "cell_type": "markdown",
   "id": "4ce50ba4",
   "metadata": {},
   "source": [
    "### Vetorização dos documentos\n",
    "\n",
    "* Representa cada documento e suas respectivas palavar em uma matriz esparsa, onde as linhas serão os documentos, e as colunas a  "
   ]
  },
  {
   "cell_type": "code",
   "execution_count": 71,
   "id": "47187dae",
   "metadata": {},
   "outputs": [],
   "source": [
    "from sklearn.feature_extraction.text import CountVectorizer\n",
    "\n",
    "count_vect = CountVectorizer()\n",
    "X_vect = count_vect.fit_transform(X)\n"
   ]
  },
  {
   "cell_type": "code",
   "execution_count": 72,
   "id": "cc80dfe9",
   "metadata": {},
   "outputs": [
    {
     "name": "stdout",
     "output_type": "stream",
     "text": [
      "(11314, 101631)\n"
     ]
    }
   ],
   "source": [
    "# O output indica o formato da vetorização, sendo o (número de documentos, pelo número de palavras). \n",
    "print(X_vect.shape)\n",
    "\n",
    "# !!! a quantidade de palavras está muito grande pois não foi feito o pré processamento dos dados, portanto não está devidamente otimizado. "
   ]
  },
  {
   "cell_type": "code",
   "execution_count": 73,
   "id": "9c43aa1b",
   "metadata": {},
   "outputs": [
    {
     "name": "stderr",
     "output_type": "stream",
     "text": [
      "/usr/local/lib/python3.8/dist-packages/sklearn/utils/deprecation.py:87: FutureWarning: Function get_feature_names is deprecated; get_feature_names is deprecated in 1.0 and will be removed in 1.2. Please use get_feature_names_out instead.\n",
      "  warnings.warn(msg, category=FutureWarning)\n"
     ]
    },
    {
     "data": {
      "text/plain": [
       "'was'"
      ]
     },
     "execution_count": 73,
     "metadata": {},
     "output_type": "execute_result"
    }
   ],
   "source": [
    "count_vect.get_feature_names()[95844]\n",
    "#Funcao para identificar um palavra em um documento por seu id gerado a baixo"
   ]
  },
  {
   "cell_type": "code",
   "execution_count": 74,
   "id": "82f2ca53",
   "metadata": {},
   "outputs": [
    {
     "name": "stdout",
     "output_type": "stream",
     "text": [
      "  (0, 95844)\t4\n",
      "  (0, 97181)\t1\n",
      "  (0, 48754)\t2\n",
      "  (0, 18915)\t2\n",
      "  (0, 68847)\t1\n",
      "  (0, 88638)\t1\n",
      "  (0, 30074)\t1\n",
      "  (0, 37335)\t1\n",
      "  (0, 60560)\t1\n",
      "  (0, 68080)\t2\n",
      "  (0, 88767)\t4\n",
      "  (0, 25775)\t4\n",
      "  (0, 80623)\t1\n",
      "  (0, 88532)\t6\n",
      "  (0, 68781)\t1\n",
      "  (0, 31990)\t1\n",
      "  (0, 51326)\t2\n",
      "  (0, 34809)\t1\n",
      "  (0, 84538)\t1\n",
      "  (0, 57390)\t1\n",
      "  (0, 89360)\t1\n",
      "  (0, 21987)\t1\n",
      "  (0, 41715)\t2\n",
      "  (0, 55746)\t1\n",
      "  (0, 9843)\t1\n",
      "  :\t:\n",
      "  (11313, 40387)\t1\n",
      "  (11313, 81792)\t1\n",
      "  (11313, 81742)\t1\n",
      "  (11313, 96497)\t1\n",
      "  (11313, 89804)\t1\n",
      "  (11313, 23302)\t1\n",
      "  (11313, 82660)\t1\n",
      "  (11313, 85524)\t1\n",
      "  (11313, 70066)\t1\n",
      "  (11313, 21258)\t1\n",
      "  (11313, 62086)\t1\n",
      "  (11313, 71992)\t1\n",
      "  (11313, 87730)\t1\n",
      "  (11313, 84605)\t1\n",
      "  (11313, 61975)\t1\n",
      "  (11313, 26205)\t1\n",
      "  (11313, 71786)\t1\n",
      "  (11313, 78365)\t1\n",
      "  (11313, 89465)\t1\n",
      "  (11313, 56719)\t1\n",
      "  (11313, 54033)\t1\n",
      "  (11313, 26208)\t1\n",
      "  (11313, 52230)\t1\n",
      "  (11313, 4486)\t1\n",
      "  (11313, 96707)\t1\n"
     ]
    }
   ],
   "source": [
    "#Abaixo, sera printado o (documento, determinada palavra no documento) e a frequencia dessa palavra no documento.\n",
    "print(X_vect)"
   ]
  },
  {
   "cell_type": "markdown",
   "id": "5588be90",
   "metadata": {},
   "source": [
    "### Multinomial Naive Bayes\n",
    "\n",
    "* O Algoritimo de Naive Bayes, calcula a probabilidade de tal palavra aparecer em determinado rótulo.\n",
    "\n",
    "* O multinomial se refere a múltiplas dimensões, ou seja, onde cada palavra possui uma dimensão referente."
   ]
  },
  {
   "cell_type": "code",
   "execution_count": 75,
   "id": "56208ffb",
   "metadata": {},
   "outputs": [
    {
     "data": {
      "text/html": [
       "<style>#sk-container-id-5 {color: black;background-color: white;}#sk-container-id-5 pre{padding: 0;}#sk-container-id-5 div.sk-toggleable {background-color: white;}#sk-container-id-5 label.sk-toggleable__label {cursor: pointer;display: block;width: 100%;margin-bottom: 0;padding: 0.3em;box-sizing: border-box;text-align: center;}#sk-container-id-5 label.sk-toggleable__label-arrow:before {content: \"▸\";float: left;margin-right: 0.25em;color: #696969;}#sk-container-id-5 label.sk-toggleable__label-arrow:hover:before {color: black;}#sk-container-id-5 div.sk-estimator:hover label.sk-toggleable__label-arrow:before {color: black;}#sk-container-id-5 div.sk-toggleable__content {max-height: 0;max-width: 0;overflow: hidden;text-align: left;background-color: #f0f8ff;}#sk-container-id-5 div.sk-toggleable__content pre {margin: 0.2em;color: black;border-radius: 0.25em;background-color: #f0f8ff;}#sk-container-id-5 input.sk-toggleable__control:checked~div.sk-toggleable__content {max-height: 200px;max-width: 100%;overflow: auto;}#sk-container-id-5 input.sk-toggleable__control:checked~label.sk-toggleable__label-arrow:before {content: \"▾\";}#sk-container-id-5 div.sk-estimator input.sk-toggleable__control:checked~label.sk-toggleable__label {background-color: #d4ebff;}#sk-container-id-5 div.sk-label input.sk-toggleable__control:checked~label.sk-toggleable__label {background-color: #d4ebff;}#sk-container-id-5 input.sk-hidden--visually {border: 0;clip: rect(1px 1px 1px 1px);clip: rect(1px, 1px, 1px, 1px);height: 1px;margin: -1px;overflow: hidden;padding: 0;position: absolute;width: 1px;}#sk-container-id-5 div.sk-estimator {font-family: monospace;background-color: #f0f8ff;border: 1px dotted black;border-radius: 0.25em;box-sizing: border-box;margin-bottom: 0.5em;}#sk-container-id-5 div.sk-estimator:hover {background-color: #d4ebff;}#sk-container-id-5 div.sk-parallel-item::after {content: \"\";width: 100%;border-bottom: 1px solid gray;flex-grow: 1;}#sk-container-id-5 div.sk-label:hover label.sk-toggleable__label {background-color: #d4ebff;}#sk-container-id-5 div.sk-serial::before {content: \"\";position: absolute;border-left: 1px solid gray;box-sizing: border-box;top: 0;bottom: 0;left: 50%;z-index: 0;}#sk-container-id-5 div.sk-serial {display: flex;flex-direction: column;align-items: center;background-color: white;padding-right: 0.2em;padding-left: 0.2em;position: relative;}#sk-container-id-5 div.sk-item {position: relative;z-index: 1;}#sk-container-id-5 div.sk-parallel {display: flex;align-items: stretch;justify-content: center;background-color: white;position: relative;}#sk-container-id-5 div.sk-item::before, #sk-container-id-5 div.sk-parallel-item::before {content: \"\";position: absolute;border-left: 1px solid gray;box-sizing: border-box;top: 0;bottom: 0;left: 50%;z-index: -1;}#sk-container-id-5 div.sk-parallel-item {display: flex;flex-direction: column;z-index: 1;position: relative;background-color: white;}#sk-container-id-5 div.sk-parallel-item:first-child::after {align-self: flex-end;width: 50%;}#sk-container-id-5 div.sk-parallel-item:last-child::after {align-self: flex-start;width: 50%;}#sk-container-id-5 div.sk-parallel-item:only-child::after {width: 0;}#sk-container-id-5 div.sk-dashed-wrapped {border: 1px dashed gray;margin: 0 0.4em 0.5em 0.4em;box-sizing: border-box;padding-bottom: 0.4em;background-color: white;}#sk-container-id-5 div.sk-label label {font-family: monospace;font-weight: bold;display: inline-block;line-height: 1.2em;}#sk-container-id-5 div.sk-label-container {text-align: center;}#sk-container-id-5 div.sk-container {/* jupyter's `normalize.less` sets `[hidden] { display: none; }` but bootstrap.min.css set `[hidden] { display: none !important; }` so we also need the `!important` here to be able to override the default hidden behavior on the sphinx rendered scikit-learn.org. See: https://github.com/scikit-learn/scikit-learn/issues/21755 */display: inline-block !important;position: relative;}#sk-container-id-5 div.sk-text-repr-fallback {display: none;}</style><div id=\"sk-container-id-5\" class=\"sk-top-container\"><div class=\"sk-text-repr-fallback\"><pre>MultinomialNB()</pre><b>In a Jupyter environment, please rerun this cell to show the HTML representation or trust the notebook. <br />On GitHub, the HTML representation is unable to render, please try loading this page with nbviewer.org.</b></div><div class=\"sk-container\" hidden><div class=\"sk-item\"><div class=\"sk-estimator sk-toggleable\"><input class=\"sk-toggleable__control sk-hidden--visually\" id=\"sk-estimator-id-5\" type=\"checkbox\" checked><label for=\"sk-estimator-id-5\" class=\"sk-toggleable__label sk-toggleable__label-arrow\">MultinomialNB</label><div class=\"sk-toggleable__content\"><pre>MultinomialNB()</pre></div></div></div></div></div>"
      ],
      "text/plain": [
       "MultinomialNB()"
      ]
     },
     "execution_count": 75,
     "metadata": {},
     "output_type": "execute_result"
    }
   ],
   "source": [
    "from sklearn.naive_bayes import MultinomialNB\n",
    "\n",
    "model = MultinomialNB()\n",
    "\n",
    "#Treino do modelo, passando os documentos devidamente vetorizados e os rótulos.\n",
    "model.fit(X_vect, Y)"
   ]
  },
  {
   "cell_type": "code",
   "execution_count": 76,
   "id": "eb72b8f2",
   "metadata": {},
   "outputs": [],
   "source": [
    "# Criacao de dois documentos para testar sse o modelo esta funcionando.\n",
    "doc1 = 'The bible is on the dataset'\n",
    "doc2 = 'The engine is on'\n",
    "\n",
    "# Vetorizacao dos documentos acima para que o modelo aceite como entrada.\n",
    "X_ex = count_vect.transform([doc1, doc2])"
   ]
  },
  {
   "cell_type": "code",
   "execution_count": 77,
   "id": "da7603b1",
   "metadata": {},
   "outputs": [
    {
     "data": {
      "text/plain": [
       "(2, 101631)"
      ]
     },
     "execution_count": 77,
     "metadata": {},
     "output_type": "execute_result"
    }
   ],
   "source": [
    "X_ex.shape"
   ]
  },
  {
   "cell_type": "code",
   "execution_count": 78,
   "id": "04997e04",
   "metadata": {},
   "outputs": [
    {
     "data": {
      "text/plain": [
       "array([15,  7])"
      ]
     },
     "execution_count": 78,
     "metadata": {},
     "output_type": "execute_result"
    }
   ],
   "source": [
    "# Rotula os documentos baseado no que foi treinado.\n",
    "model.predict(X_ex) \n",
    "\n",
    "# O doc1 sera da classe 15 e o doc2 da classe 7"
   ]
  },
  {
   "cell_type": "code",
   "execution_count": 79,
   "id": "8caf0050",
   "metadata": {},
   "outputs": [
    {
     "name": "stdout",
     "output_type": "stream",
     "text": [
      "soc.religion.christian\n",
      "rec.autos\n"
     ]
    }
   ],
   "source": [
    "print(ng_train.target_names[15])\n",
    "print(ng_train.target_names[7])\n",
    " \n",
    "# O doc1 e da classe religiao e o doc2 e da classe automovel."
   ]
  },
  {
   "cell_type": "code",
   "execution_count": null,
   "id": "1529c38f",
   "metadata": {},
   "outputs": [],
   "source": []
  }
 ],
 "metadata": {
  "kernelspec": {
   "display_name": "Python 3.8.10 64-bit",
   "language": "python",
   "name": "python3"
  },
  "language_info": {
   "codemirror_mode": {
    "name": "ipython",
    "version": 3
   },
   "file_extension": ".py",
   "mimetype": "text/x-python",
   "name": "python",
   "nbconvert_exporter": "python",
   "pygments_lexer": "ipython3",
   "version": "3.8.10"
  },
  "vscode": {
   "interpreter": {
    "hash": "916dbcbb3f70747c44a77c7bcd40155683ae19c65e1c03b4aa3499c5328201f1"
   }
  }
 },
 "nbformat": 4,
 "nbformat_minor": 5
}
