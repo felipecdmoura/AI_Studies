{
 "cells": [
  {
   "cell_type": "markdown",
   "metadata": {},
   "source": [
    "# Deep Learning\n",
    "\n",
    "* Simula a forma de aprendizado do cérebro humano.\n",
    "\n",
    "* Utiliza pesos para \"fortalecer as conexões neurais\" entre as entradas e às saídas.\n",
    "\n",
    "\n",
    "Exemplo: X * W = Y, onde X é uma matriz (exemplo, atributo) (como documentos por palavras, por exemplo); W é uma matriz (atributo, saída) que serve como o peso; e Y é uma matriz resultadon do tipo (exemplo, saída).\n",
    "\n",
    "\n",
    "### Função de Erro\n",
    "\n",
    "* A função min w (X * W - Y)^2, e utilizada para determinar o melhor peso para o caso, onde quanto mais proximo de zero o resultado melhor é.\n",
    "\n",
    "* "
   ]
  },
  {
   "cell_type": "code",
   "execution_count": null,
   "metadata": {},
   "outputs": [],
   "source": []
  },
  {
   "cell_type": "markdown",
   "metadata": {},
   "source": []
  }
 ],
 "metadata": {
  "kernelspec": {
   "display_name": "Python 3.8.10 64-bit",
   "language": "python",
   "name": "python3"
  },
  "language_info": {
   "name": "python",
   "version": "3.8.10"
  },
  "orig_nbformat": 4,
  "vscode": {
   "interpreter": {
    "hash": "916dbcbb3f70747c44a77c7bcd40155683ae19c65e1c03b4aa3499c5328201f1"
   }
  }
 },
 "nbformat": 4,
 "nbformat_minor": 2
}
